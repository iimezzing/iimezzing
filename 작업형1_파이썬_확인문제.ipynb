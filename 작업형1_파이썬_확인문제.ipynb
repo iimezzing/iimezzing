{
  "nbformat": 4,
  "nbformat_minor": 0,
  "metadata": {
    "colab": {
      "provenance": [],
      "authorship_tag": "ABX9TyNnGskBe8Poh/F+n5rgVFFl",
      "include_colab_link": true
    },
    "kernelspec": {
      "name": "python3",
      "display_name": "Python 3"
    },
    "language_info": {
      "name": "python"
    }
  },
  "cells": [
    {
      "cell_type": "markdown",
      "metadata": {
        "id": "view-in-github",
        "colab_type": "text"
      },
      "source": [
        "<a href=\"https://colab.research.google.com/github/iimezzing/iimezzing/blob/main/%EC%9E%91%EC%97%85%ED%98%951_%ED%8C%8C%EC%9D%B4%EC%8D%AC_%ED%99%95%EC%9D%B8%EB%AC%B8%EC%A0%9C.ipynb\" target=\"_parent\"><img src=\"https://colab.research.google.com/assets/colab-badge.svg\" alt=\"Open In Colab\"/></a>"
      ]
    },
    {
      "cell_type": "code",
      "execution_count": null,
      "metadata": {
        "id": "abmpvGu0Lmu6"
      },
      "outputs": [],
      "source": [
        "# p.68 확인문제"
      ]
    },
    {
      "cell_type": "code",
      "source": [
        "listbox=[\"감사\", \"행복\", \"사랑\", \"성공\", \"긍정\", \"변화\", \"성장\", \"희망\"]"
      ],
      "metadata": {
        "id": "lZPj9VT9MHeR"
      },
      "execution_count": null,
      "outputs": []
    },
    {
      "cell_type": "code",
      "source": [
        "#리스트에 있는 값의 수 출력\n",
        "len(listbox)"
      ],
      "metadata": {
        "colab": {
          "base_uri": "https://localhost:8080/"
        },
        "id": "U5qQxq96MVNm",
        "outputId": "a828f302-b35a-41d5-8646-d7bd6adc039b"
      },
      "execution_count": null,
      "outputs": [
        {
          "output_type": "execute_result",
          "data": {
            "text/plain": [
              "8"
            ]
          },
          "metadata": {},
          "execution_count": 3
        }
      ]
    },
    {
      "cell_type": "code",
      "source": [
        "#리스트의 첫번째 값 출력\n",
        "print(listbox[0])"
      ],
      "metadata": {
        "colab": {
          "base_uri": "https://localhost:8080/"
        },
        "id": "-X_lkJ2SMhER",
        "outputId": "06dad1c7-a88e-4655-c50a-da059599fb13"
      },
      "execution_count": null,
      "outputs": [
        {
          "output_type": "stream",
          "name": "stdout",
          "text": [
            "감사\n"
          ]
        }
      ]
    },
    {
      "cell_type": "code",
      "source": [
        "#리스트의 마지막 값 출력\n",
        "print(listbox[-1])"
      ],
      "metadata": {
        "colab": {
          "base_uri": "https://localhost:8080/"
        },
        "id": "KWvqnFQ-MsC8",
        "outputId": "07002459-483b-425c-b9c4-bf13cc1a6052"
      },
      "execution_count": null,
      "outputs": [
        {
          "output_type": "stream",
          "name": "stdout",
          "text": [
            "희망\n"
          ]
        }
      ]
    },
    {
      "cell_type": "code",
      "source": [
        "#리스트의 처음부터 세 번째 값까지 출력\n",
        "print(listbox[0:3])"
      ],
      "metadata": {
        "colab": {
          "base_uri": "https://localhost:8080/"
        },
        "id": "q6Sz0r6XMx5Y",
        "outputId": "0077699c-80e6-42c8-a87a-8a2051ce826a"
      },
      "execution_count": null,
      "outputs": [
        {
          "output_type": "stream",
          "name": "stdout",
          "text": [
            "['감사', '행복', '사랑']\n"
          ]
        }
      ]
    },
    {
      "cell_type": "code",
      "source": [
        "#리스트의 마지막 앞 단어 출력\n",
        "print(listbox[-2])"
      ],
      "metadata": {
        "colab": {
          "base_uri": "https://localhost:8080/"
        },
        "id": "e0NevnRDM7la",
        "outputId": "39805562-88f9-4a39-b485-b6478f711a62"
      },
      "execution_count": null,
      "outputs": [
        {
          "output_type": "stream",
          "name": "stdout",
          "text": [
            "성장\n"
          ]
        }
      ]
    },
    {
      "cell_type": "code",
      "source": [
        "#리스트의 '행복'과 '사랑'만 출력\n",
        "print(listbox[1:3])"
      ],
      "metadata": {
        "colab": {
          "base_uri": "https://localhost:8080/"
        },
        "id": "FYM_ZNc2M_UQ",
        "outputId": "2b2a2dd9-967e-47bb-f3c5-86dd2cf90092"
      },
      "execution_count": null,
      "outputs": [
        {
          "output_type": "stream",
          "name": "stdout",
          "text": [
            "['행복', '사랑']\n"
          ]
        }
      ]
    },
    {
      "cell_type": "code",
      "source": [
        "#리스트 값 중 '변화' -> '웃음'으로 변경\n",
        "listbox[5]=\"웃음\"\n",
        "print(listbox)"
      ],
      "metadata": {
        "colab": {
          "base_uri": "https://localhost:8080/"
        },
        "id": "FCQmOTc-NHY6",
        "outputId": "ef64231f-94e9-431e-8487-c0c7c4c424ab"
      },
      "execution_count": null,
      "outputs": [
        {
          "output_type": "stream",
          "name": "stdout",
          "text": [
            "['감사', '행복', '사랑', '성공', '긍정', '웃음', '성장', '희망']\n"
          ]
        }
      ]
    },
    {
      "cell_type": "code",
      "source": [
        "cols=['name', 'age', 'phone']"
      ],
      "metadata": {
        "id": "on-ems4xNVwA"
      },
      "execution_count": null,
      "outputs": []
    },
    {
      "cell_type": "code",
      "source": [
        "#cols 변수는 컬럼명을 담고 있다. cols 리스트에 있는 컬럼명을 반복문을 통해 출력\n",
        "for i in cols:\n",
        "  print(i)"
      ],
      "metadata": {
        "colab": {
          "base_uri": "https://localhost:8080/"
        },
        "id": "4nO5p0TfNiwQ",
        "outputId": "e2884705-f1e0-4f26-95f1-e72b65c97089"
      },
      "execution_count": null,
      "outputs": [
        {
          "output_type": "stream",
          "name": "stdout",
          "text": [
            "name\n",
            "age\n",
            "phone\n"
          ]
        }
      ]
    },
    {
      "cell_type": "code",
      "source": [
        "listbox=[15, 46, 78, 24, 56]"
      ],
      "metadata": {
        "id": "Ifm5rMteNsaQ"
      },
      "execution_count": null,
      "outputs": []
    },
    {
      "cell_type": "code",
      "source": [
        "#리스트에서 최댓값에서 최솟값을 뺀 결과 리턴하는 함수 만들고 실행하기\n",
        "def result(max, min):\n",
        "  return max-min\n",
        "\n",
        "max=0\n",
        "min=10000000\n",
        "for i in listbox:\n",
        "  if i > max:\n",
        "    max=i\n",
        "  if i < min:\n",
        "    min=i\n",
        "print(result(max,min))"
      ],
      "metadata": {
        "colab": {
          "base_uri": "https://localhost:8080/"
        },
        "id": "vGXTf_LuNw_h",
        "outputId": "55a42272-cc20-49e6-a3ab-0c781aa213f7"
      },
      "execution_count": null,
      "outputs": [
        {
          "output_type": "stream",
          "name": "stdout",
          "text": [
            "63\n"
          ]
        }
      ]
    },
    {
      "cell_type": "code",
      "source": [
        "str_data = \"여러분의 합격을 응원합니다!\""
      ],
      "metadata": {
        "id": "DvoTXUaNOP7f"
      },
      "execution_count": null,
      "outputs": []
    },
    {
      "cell_type": "code",
      "source": [
        "#문자열에서 \"여러분\"을 \"당신\"으로 변경한 결과를 리턴하는 함수를 만들고 실행\n",
        "def change(list):\n",
        "  return list.replace(\"여러분\", \"당신\")\n",
        "print(change(str_data))"
      ],
      "metadata": {
        "colab": {
          "base_uri": "https://localhost:8080/"
        },
        "id": "saSPtywvOV0I",
        "outputId": "495bdf1b-f2b3-404a-ff5f-cec69eee716f"
      },
      "execution_count": null,
      "outputs": [
        {
          "output_type": "stream",
          "name": "stdout",
          "text": [
            "당신의 합격을 응원합니다!\n"
          ]
        }
      ]
    },
    {
      "cell_type": "code",
      "source": [
        "str_data"
      ],
      "metadata": {
        "colab": {
          "base_uri": "https://localhost:8080/",
          "height": 35
        },
        "id": "a-J0rQo9O2jg",
        "outputId": "425f4181-9851-4918-8545-14a8446438da"
      },
      "execution_count": null,
      "outputs": [
        {
          "output_type": "execute_result",
          "data": {
            "text/plain": [
              "'여러분의 합격을 응원합니다!'"
            ],
            "application/vnd.google.colaboratory.intrinsic+json": {
              "type": "string"
            }
          },
          "metadata": {},
          "execution_count": 23
        }
      ]
    },
    {
      "cell_type": "code",
      "source": [],
      "metadata": {
        "id": "DvTBYLXfUVvf"
      },
      "execution_count": null,
      "outputs": []
    }
  ]
}